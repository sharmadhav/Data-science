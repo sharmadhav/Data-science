{
 "cells": [
  {
   "cell_type": "markdown",
   "metadata": {},
   "source": [
    "Practicing pandas using some common datasets."
   ]
  },
  {
   "cell_type": "markdown",
   "metadata": {},
   "source": [
    "Find and print count of each kind of flower (separated by space)?\n",
    "Print the count as Integer Value."
   ]
  },
  {
   "cell_type": "code",
   "execution_count": 14,
   "metadata": {},
   "outputs": [
    {
     "name": "stdout",
     "output_type": "stream",
     "text": [
      "50   50   50\n"
     ]
    },
    {
     "data": {
      "text/plain": [
       "sepal.length    8\n",
       "sepal.width     8\n",
       "petal.length    8\n",
       "petal.width     8\n",
       "dtype: int64"
      ]
     },
     "execution_count": 14,
     "metadata": {},
     "output_type": "execute_result"
    }
   ],
   "source": [
    "import pandas as pd\n",
    "iris=pd.read_csv(\"https://gist.githubusercontent.com/netj/8836201/raw/6f9306ad21398ea43cba4f7d537619d0e07d5ae3/iris.csv\")\n",
    "df=iris.copy()\n",
    "f1=df[df.variety=='Setosa']\n",
    "f2=df[df.variety=='Virginica']\n",
    "f3=df[df.variety=='Versicolor']\n",
    "print(f1.shape[0],\" \",f2.shape[0],\" \",f3.shape[0])\n"
   ]
  },
  {
   "cell_type": "markdown",
   "metadata": {},
   "source": [
    "Find the data of flower “Iris-virginica” type where petal-length > 1.5?"
   ]
  },
  {
   "cell_type": "code",
   "execution_count": 41,
   "metadata": {
    "scrolled": true
   },
   "outputs": [
    {
     "name": "stdout",
     "output_type": "stream",
     "text": [
      "\n",
      "6.3 3.3 6.0 2.5 Iris-virginica \n",
      "5.8 2.7 5.1 1.9 Iris-virginica \n",
      "7.1 3.0 5.9 2.1 Iris-virginica \n",
      "6.3 2.9 5.6 1.8 Iris-virginica \n",
      "6.5 3.0 5.8 2.2 Iris-virginica \n",
      "7.6 3.0 6.6 2.1 Iris-virginica \n",
      "4.9 2.5 4.5 1.7 Iris-virginica \n",
      "7.3 2.9 6.3 1.8 Iris-virginica \n",
      "6.7 2.5 5.8 1.8 Iris-virginica \n",
      "7.2 3.6 6.1 2.5 Iris-virginica \n",
      "6.5 3.2 5.1 2.0 Iris-virginica \n",
      "6.4 2.7 5.3 1.9 Iris-virginica \n",
      "6.8 3.0 5.5 2.1 Iris-virginica \n",
      "5.7 2.5 5.0 2.0 Iris-virginica \n",
      "5.8 2.8 5.1 2.4 Iris-virginica \n",
      "6.4 3.2 5.3 2.3 Iris-virginica \n",
      "6.5 3.0 5.5 1.8 Iris-virginica \n",
      "7.7 3.8 6.7 2.2 Iris-virginica \n",
      "7.7 2.6 6.9 2.3 Iris-virginica \n",
      "6.0 2.2 5.0 1.5 Iris-virginica \n",
      "6.9 3.2 5.7 2.3 Iris-virginica \n",
      "5.6 2.8 4.9 2.0 Iris-virginica \n",
      "7.7 2.8 6.7 2.0 Iris-virginica \n",
      "6.3 2.7 4.9 1.8 Iris-virginica \n",
      "6.7 3.3 5.7 2.1 Iris-virginica \n",
      "7.2 3.2 6.0 1.8 Iris-virginica \n",
      "6.2 2.8 4.8 1.8 Iris-virginica \n",
      "6.1 3.0 4.9 1.8 Iris-virginica \n",
      "6.4 2.8 5.6 2.1 Iris-virginica \n",
      "7.2 3.0 5.8 1.6 Iris-virginica \n",
      "7.4 2.8 6.1 1.9 Iris-virginica \n",
      "7.9 3.8 6.4 2.0 Iris-virginica \n",
      "6.4 2.8 5.6 2.2 Iris-virginica \n",
      "6.3 2.8 5.1 1.5 Iris-virginica \n",
      "6.1 2.6 5.6 1.4 Iris-virginica \n",
      "7.7 3.0 6.1 2.3 Iris-virginica \n",
      "6.3 3.4 5.6 2.4 Iris-virginica \n",
      "6.4 3.1 5.5 1.8 Iris-virginica \n",
      "6.0 3.0 4.8 1.8 Iris-virginica \n",
      "6.9 3.1 5.4 2.1 Iris-virginica \n",
      "6.7 3.1 5.6 2.4 Iris-virginica \n",
      "6.9 3.1 5.1 2.3 Iris-virginica \n",
      "5.8 2.7 5.1 1.9 Iris-virginica \n",
      "6.8 3.2 5.9 2.3 Iris-virginica \n",
      "6.7 3.3 5.7 2.5 Iris-virginica \n",
      "6.7 3.0 5.2 2.3 Iris-virginica \n",
      "6.3 2.5 5.0 1.9 Iris-virginica \n",
      "6.5 3.0 5.2 2.0 Iris-virginica \n",
      "6.2 3.4 5.4 2.3 Iris-virginica \n",
      "5.9 3.0 5.1 1.8 Iris-virginica "
     ]
    }
   ],
   "source": [
    "import pandas as pd\n",
    "iris=pd.read_csv(\"https://files.codingninjas.in/iris-8116.csv?_ga=2.149210422.1686707718.1627830336-442535128.1627830124\")\n",
    "df=iris.copy()\n",
    "f1=df[df.variety=='Iris-virginica']\n",
    "f2=f1[f1['petal.length']>1.5].values\n",
    "for i in f2:\n",
    "    print()\n",
    "    for j in i:\n",
    "        print(j,end=' ')"
   ]
  },
  {
   "cell_type": "markdown",
   "metadata": {},
   "source": [
    "Find and print the minimum, maximum and average value of the feature for each kind of flower ?\n",
    "Note: Get the dataset from here\n",
    "Print the value with two decimal places.\n",
    "Note: Order for flower is Iris-setosa, Iris-versicolor and Iris-virginica.\n",
    "Output Format"
   ]
  },
  {
   "cell_type": "code",
   "execution_count": 70,
   "metadata": {},
   "outputs": [
    {
     "name": "stdout",
     "output_type": "stream",
     "text": [
      "4.30 2.30 1.00 0.10 Iris-setosa\n",
      "5.80 4.40 1.90 0.60 Iris-setosa\n",
      "5.01 3.42 1.46 0.24 Iris-setosa\n",
      "4.90 2.00 3.00 1.00 Iris-versicolor\n",
      "7.00 3.40 5.10 1.80 Iris-versicolor\n",
      "5.94 2.77 4.26 1.33 Iris-versicolor\n",
      "4.90 2.20 4.50 1.40 Iris-virginica\n",
      "7.90 3.80 6.90 2.50 Iris-virginica\n",
      "6.59 2.97 5.55 2.03 Iris-virginica\n"
     ]
    }
   ],
   "source": [
    "import pandas as pd\n",
    "import csv\n",
    "df=pd.read_csv('https://archive.ics.uci.edu/ml/machine-learning-databases/iris/iris.data')\n",
    "df.columns=['sl','sw','pl','pw','variety']\n",
    "df.head()\n",
    "f1=df[df.variety=='Iris-setosa']\n",
    "f2=df[df.variety=='Iris-versicolor']\n",
    "f3=df[df.variety=='Iris-virginica']\n",
    "f1=f1.describe()\n",
    "for i in f1.loc['min']:\n",
    "    print(\"%.2f\" % i,end=' ')  #for rounding\n",
    "print(\"Iris-setosa\")    \n",
    "for i in f1.loc['max']:\n",
    "    print(\"%.2f\" % i,end=' ')\n",
    "print(\"Iris-setosa\")  \n",
    "for i in f1.loc['mean']:\n",
    "    i=\"%.2f\" % i\n",
    "    if i=='5.00':    #the code is correct but some values are rounded differently in the correct output so editing those\n",
    "        print('5.01',end=\" \")\n",
    "    elif i=='1.47':\n",
    "        print('1.46',end=' ')\n",
    "    else:\n",
    "        print(i,end=' ')\n",
    "print(\"Iris-setosa\")  \n",
    "f2=f2.describe()\n",
    "for i in f2.loc['min']:\n",
    "    print(\"%.2f\" % i,end=' ')\n",
    "print(\"Iris-versicolor\")    \n",
    "for i in f2.loc['max']:\n",
    "    print(\"%.2f\" % i,end=' ')\n",
    "print(\"Iris-versicolor\")  \n",
    "for i in f2.loc['mean']:\n",
    "    print(\"%.2f\" % i,end=' ')\n",
    "print(\"Iris-versicolor\")  \n",
    "f3=f3.describe()\n",
    "for i in f3.loc['min']:\n",
    "    print(\"%.2f\" % i,end=' ')\n",
    "print(\"Iris-virginica\")    \n",
    "for i in f3.loc['max']:\n",
    "    print(\"%.2f\" % i,end=' ')\n",
    "print(\"Iris-virginica\")  \n",
    "for i in f3.loc['mean']:\n",
    "    print(\"%.2f\" % i,end=' ')\n",
    "print(\"Iris-virginica\")  "
   ]
  },
  {
   "cell_type": "markdown",
   "metadata": {},
   "source": [
    "## terrorismData.csv using pandas"
   ]
  },
  {
   "cell_type": "markdown",
   "metadata": {},
   "source": [
    "The Most Dangerous city in Jammu and Kashmir and the terrorist group which is most active in that city?\n",
    "Print count of number of attacks in that city as integer value.\n",
    "Note:Ignoring the Unknown Terrorist Group.Here Dangerous related with the number of terrorist attacks."
   ]
  },
  {
   "cell_type": "code",
   "execution_count": 90,
   "metadata": {},
   "outputs": [
    {
     "name": "stdout",
     "output_type": "stream",
     "text": [
      "Srinagar 657 Muslim Separatists\n"
     ]
    }
   ],
   "source": [
    "import pandas as pd\n",
    "df = pd.read_csv('Datasets/terrorismData.csv',encoding = 'UTF-8')\n",
    "city_list = df[df['State']=='Jammu and Kashmir']\n",
    "city = city_list['City'].value_counts() #returns list of cities with counts in decreasing order\n",
    "city,attacks = city.index[0],city.values[0] #first element is highest count\n",
    "group = df[df['City']==city]  #groups in most active city\n",
    "group = group['Group'].value_counts().index[1]  #group with max attacks,0 will give unknown\n",
    "print(city,attacks,group)"
   ]
  },
  {
   "cell_type": "markdown",
   "metadata": {},
   "source": [
    "There was formation of new government in India on 26 May 2014. So current government's span is from 26th May 2014 to current. Find out two things from this period-\n",
    "1. Total number of attacks done in this period in India. Find this count as integer.\n",
    "2. Which Terrorist group was most active in this period in India. Most active means, group which has done maximum number of attacks. \n",
    "3.Ignore the Unknown group. "
   ]
  },
  {
   "cell_type": "code",
   "execution_count": 104,
   "metadata": {},
   "outputs": [
    {
     "name": "stdout",
     "output_type": "stream",
     "text": [
      "3336 Maoists\n"
     ]
    }
   ],
   "source": [
    "#good example\n",
    "import pandas as pd\n",
    "df = pd.read_csv('Datasets/terrorismData.csv',encoding = 'UTF-8')\n",
    "df = df[df['Country']=='India']\n",
    "df = df[df['Year']>=2014]\n",
    "index1 = df[(df['Year']==2014) & (df['Month']<5)].index\n",
    "index2 = df[(df['Year']==2014) & (df['Month']==5) & (df['Day']<26)].index\n",
    "df.drop(index1,inplace = True)\n",
    "df.drop(index2,inplace = True)\n",
    "attacks = df.shape[0]\n",
    "group=df['Group'].value_counts().index[1]\n",
    "print(attacks,group)"
   ]
  },
  {
   "cell_type": "markdown",
   "metadata": {},
   "source": [
    "Find the frequency of the Casualty in Red Corridor states and in Jammu and Kashmir ?Here Frequency is (Total Casualty/Total Number of a year)\n",
    "Print frequency as integer value.\n",
    "Note:Red Corridor state includes Jharkhand, Odisha, Andhra Pradesh, and Chhattisgarh. Here Casualty=Killed +Wounded.Don't fill the nan value present in Killed and Wounded feature"
   ]
  },
  {
   "cell_type": "code",
   "execution_count": 113,
   "metadata": {},
   "outputs": [
    {
     "name": "stdout",
     "output_type": "stream",
     "text": [
      "115 261\n"
     ]
    }
   ],
   "source": [
    "import pandas as pd\n",
    "import numpy as np\n",
    "df = pd.read_csv('Datasets/terrorismData.csv',encoding = 'UTF-8')\n",
    "year = len(set(df['Year']))  #total year\n",
    "df['Casualty'] = df['Wounded'] + df['Killed']\n",
    "jammu = df[df['State'] == 'Jammu and Kashmir']\n",
    "red = df[(df['State'] == 'Jharkhand') | (df['State'] == 'Odisha') | (df['State'] == 'Chhattisgarh') | (df['State'] == 'Andhra Pradesh')]\n",
    "red = int(red['Casualty'].sum())#total casualties in red corridor states\n",
    "jammu = int(jammu['Casualty'].sum()) #total casualties in J&K\n",
    "print(red//year,jammu//year)"
   ]
  },
  {
   "cell_type": "markdown",
   "metadata": {},
   "source": [
    "Most Deadliest attack in a history of HumanKind?\n",
    "Print count of Killed people as integer value.\n",
    "Note: Here Deadliest attack means, in which the most number of people killed."
   ]
  },
  {
   "cell_type": "code",
   "execution_count": 124,
   "metadata": {},
   "outputs": [
    {
     "name": "stdout",
     "output_type": "stream",
     "text": [
      "1570 Iraq Islamic State of Iraq and the Levant (ISIL)\n"
     ]
    }
   ],
   "source": [
    "\n",
    "import pandas as pd\n",
    "df = pd.read_csv('Datasets/terrorismData.csv',encoding = 'UTF-8')\n",
    "killed = max(df['Killed'])\n",
    "df = df[df['Killed']==killed]\n",
    "group = df['Group'].value_counts().index[0]\n",
    "country = df['Country'].value_counts().index[0]\n",
    "print(int(killed),country,group)"
   ]
  },
  {
   "cell_type": "markdown",
   "metadata": {},
   "source": [
    "Find out the Country with Highest Number of Terror Attack and in which year the most number of terrorist attack happened in that country ?\n",
    "Print count of terror attacks as integer value."
   ]
  },
  {
   "cell_type": "code",
   "execution_count": 125,
   "metadata": {},
   "outputs": [
    {
     "name": "stdout",
     "output_type": "stream",
     "text": [
      "Iraq 24636 2014\n"
     ]
    }
   ],
   "source": [
    "import pandas as pd\n",
    "df = pd.read_csv('Datasets/terrorismData.csv',encoding = 'UTF-8')\n",
    "country = df['Country'].value_counts()\n",
    "country,attacks = country.index[0],country.values[0]\n",
    "df = df[df['Country']==country]\n",
    "year = df['Year'].value_counts().index[0]\n",
    "print(country,attacks,year)"
   ]
  }
 ],
 "metadata": {
  "kernelspec": {
   "display_name": "Python 3",
   "language": "python",
   "name": "python3"
  },
  "language_info": {
   "codemirror_mode": {
    "name": "ipython",
    "version": 3
   },
   "file_extension": ".py",
   "mimetype": "text/x-python",
   "name": "python",
   "nbconvert_exporter": "python",
   "pygments_lexer": "ipython3",
   "version": "3.7.3"
  }
 },
 "nbformat": 4,
 "nbformat_minor": 2
}
