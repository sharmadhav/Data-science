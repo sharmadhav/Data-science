{
 "cells": [
  {
   "cell_type": "markdown",
   "metadata": {},
   "source": [
    "In this notebook, I practiced the opening and reading of CSV(comma separated values) files using the exercise provided by a course in which I was enrolled."
   ]
  },
  {
   "cell_type": "markdown",
   "metadata": {},
   "source": [
    "DictReader() function is used here. reader() function is an alternative to that"
   ]
  },
  {
   "cell_type": "markdown",
   "metadata": {},
   "source": [
    "## Amazon dataset\n",
    "Find number of job openings in Bangalore,IN and in Seattle,US?\n",
    "Print the Number of Job opening in Bangalore and Seattle as Integer value."
   ]
  },
  {
   "cell_type": "code",
   "execution_count": 1,
   "metadata": {},
   "outputs": [
    {
     "name": "stdout",
     "output_type": "stream",
     "text": [
      "66   1856\n"
     ]
    }
   ],
   "source": [
    "import csv\n",
    "with open('Datasets/amazon_jobs_dataset.csv',encoding='utf-8') as file_obj:  #so that we don't have to manually close the file\n",
    "    file_data=csv.DictReader(file_obj,skipinitialspace=True)\n",
    "    file_list=list(file_data)\n",
    "    s_count=0\n",
    "    b_count=0\n",
    "    for row in file_list:\n",
    "        if 'IN, KA, Bangalore' in row['location']:\n",
    "            b_count+=1\n",
    "        \n",
    "        if 'US, WA, Seattle' in row['location']:\n",
    "            s_count+=1\n",
    "print(b_count,\" \",s_count)            "
   ]
  },
  {
   "cell_type": "markdown",
   "metadata": {},
   "source": [
    "What are the total number of job openings related to Computer Vision ?\n",
    "Note:For finding the job related to computer vision check the Job Title column.\n",
    "Print the count as the Integer Value"
   ]
  },
  {
   "cell_type": "code",
   "execution_count": 2,
   "metadata": {},
   "outputs": [
    {
     "name": "stdout",
     "output_type": "stream",
     "text": [
      "14\n"
     ]
    }
   ],
   "source": [
    "import csv\n",
    "with open('Datasets/amazon_jobs_dataset.csv',encoding='utf-8') as file_obj:\n",
    "    file_data=csv.DictReader(file_obj,skipinitialspace=True)\n",
    "    file_list=list(file_data)\n",
    "    cv_count=0\n",
    "    for row in file_list:\n",
    "        if 'Computer Vision' in row['Title']:\n",
    "            cv_count+=1\n",
    "\n",
    "print(cv_count)            "
   ]
  },
  {
   "cell_type": "markdown",
   "metadata": {},
   "source": [
    "Find the number of job openings in Canada?\n",
    "Print the count as the Integer Value"
   ]
  },
  {
   "cell_type": "code",
   "execution_count": 3,
   "metadata": {},
   "outputs": [
    {
     "name": "stdout",
     "output_type": "stream",
     "text": [
      "156\n"
     ]
    }
   ],
   "source": [
    "import csv\n",
    "with open('Datasets/amazon_jobs_dataset.csv',encoding='utf-8') as file_obj:\n",
    "    file_data=csv.DictReader(file_obj,skipinitialspace=True)\n",
    "    file_list=list(file_data)\n",
    "    canada_count=0\n",
    "    code=\"CA\"\n",
    "    for row in file_list:\n",
    "        if code in row['location'][:2]: #first 2 letters denote country code\n",
    "            canada_count+=1\n",
    "\n",
    "print(canada_count)            "
   ]
  },
  {
   "cell_type": "markdown",
   "metadata": {},
   "source": [
    "Find the month having most job openings in Year 2018 ?\n",
    "Print the month (Month Name i.e January, February, March) and Number of job opening as Integer Value"
   ]
  },
  {
   "cell_type": "code",
   "execution_count": 4,
   "metadata": {},
   "outputs": [
    {
     "name": "stdout",
     "output_type": "stream",
     "text": [
      "January 907\n"
     ]
    }
   ],
   "source": [
    "import csv\n",
    "with open('Datasets/amazon_jobs_dataset.csv',encoding='utf-8') as file_obj:\n",
    "    file_data=csv.DictReader(file_obj,skipinitialspace=True)\n",
    "    file_list=list(file_data) \n",
    "    job = {}\n",
    "    \n",
    "    for row in file_list:\n",
    "        x = row['Posting_date'].split()\n",
    "        year = x[2]\n",
    "        if (year=='2018'):\n",
    "            key = x[0]\n",
    "            if key in job:\n",
    "                job[key] += 1\n",
    "            else:\n",
    "                job[key] = 1\n",
    "max_jobs= max(job, key=job.get)  \n",
    "print(max_jobs, job[max_jobs])                "
   ]
  },
  {
   "cell_type": "markdown",
   "metadata": {},
   "source": [
    "Find the number of job openings are present if applicant have Bachelor degree?\n",
    "Print the count as Integer value"
   ]
  },
  {
   "cell_type": "code",
   "execution_count": 5,
   "metadata": {},
   "outputs": [
    {
     "name": "stdout",
     "output_type": "stream",
     "text": [
      "2961\n"
     ]
    }
   ],
   "source": [
    "import csv\n",
    "with open('Datasets/amazon_jobs_dataset.csv',encoding='utf-8') as file_obj:\n",
    "    file_data=csv.DictReader(file_obj,skipinitialspace=True)\n",
    "    file_list=list(file_data)\n",
    "    count = 0\n",
    "    for row in file_list:\n",
    "        if 'Bachelor' in row['BASIC QUALIFICATIONS'] or 'BA' in row['BASIC QUALIFICATIONS'] or 'BS' in row['BASIC QUALIFICATIONS']:\n",
    "            count +=1\n",
    "        \n",
    "    print(count)           "
   ]
  },
  {
   "cell_type": "markdown",
   "metadata": {},
   "source": [
    "Among Java, C++ and Python, which of the language has more job openings in India for Bachelor Degree Holder?\n",
    "Print the Language(i.e Java,C++,Python) and number of job opening as integer value."
   ]
  },
  {
   "cell_type": "code",
   "execution_count": 6,
   "metadata": {},
   "outputs": [
    {
     "name": "stdout",
     "output_type": "stream",
     "text": [
      "Java 103\n"
     ]
    }
   ],
   "source": [
    "import csv\n",
    "with open('Datasets/amazon_jobs_dataset.csv',encoding='utf-8') as file_obj:\n",
    "    file_data=csv.DictReader(file_obj,skipinitialspace=True)\n",
    "    file_list=list(file_data)\n",
    "    job = {}\n",
    "    \n",
    "    for row in file_list:\n",
    "        y = row['location'][:2]    #tells about country\n",
    "        if 'IN' in y:  # if in INDIA\n",
    "            x = row['BASIC QUALIFICATIONS']\n",
    "            if ('BS' in x) or ('BA' in x) or ('Bachelor' in x):\n",
    "                if('Java' in x):\n",
    "                    if 'Java' in job:\n",
    "                        job['Java'] += 1\n",
    "                    else:\n",
    "                        job['Java'] = 1\n",
    "                if('C++' in x):\n",
    "                    if 'C++' in job:\n",
    "                        job['C++'] += 1\n",
    "                    else:\n",
    "                        job['C++'] = 1\n",
    "            \n",
    "                if('Python' in x):\n",
    "                    if 'Python' in job:\n",
    "                        job['Python'] += 1\n",
    "                    else:\n",
    "                        job['Python'] = 1\n",
    "\n",
    "max_lang= max(job, key=job.get)  \n",
    "print(max_lang, job[max_lang])"
   ]
  },
  {
   "cell_type": "markdown",
   "metadata": {},
   "source": [
    "Find the country does Amazon need the most number of Java Developer?\n",
    "Print the Country(Country Shortcut as given in Dataset) and number of job opening as integer value"
   ]
  },
  {
   "cell_type": "code",
   "execution_count": 7,
   "metadata": {},
   "outputs": [
    {
     "name": "stdout",
     "output_type": "stream",
     "text": [
      "US 2009\n"
     ]
    }
   ],
   "source": [
    "import csv\n",
    "with open('Datasets/amazon_jobs_dataset.csv',encoding='utf-8') as file_obj:\n",
    "    file_data=csv.DictReader(file_obj,skipinitialspace=True)\n",
    "    file_list=list(file_data) \n",
    "    job = {}\n",
    "    \n",
    "    for row in file_list:\n",
    "        y = row['location'][:2] \n",
    "        if 'Java' in row['BASIC QUALIFICATIONS']:\n",
    "            if y in job:\n",
    "                job[y]+=1\n",
    "            else:\n",
    "                job[y]=1\n",
    "\n",
    "max_java= max(job, key=job.get)  \n",
    "print(max_java, job[max_java]) \n"
   ]
  }
 ],
 "metadata": {
  "kernelspec": {
   "display_name": "Python 3",
   "language": "python",
   "name": "python3"
  },
  "language_info": {
   "codemirror_mode": {
    "name": "ipython",
    "version": 3
   },
   "file_extension": ".py",
   "mimetype": "text/x-python",
   "name": "python",
   "nbconvert_exporter": "python",
   "pygments_lexer": "ipython3",
   "version": "3.7.3"
  }
 },
 "nbformat": 4,
 "nbformat_minor": 2
}
